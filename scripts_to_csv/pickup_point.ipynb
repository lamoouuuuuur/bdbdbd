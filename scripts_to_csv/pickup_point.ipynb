{
  "nbformat": 4,
  "nbformat_minor": 0,
  "metadata": {
    "colab": {
      "provenance": []
    },
    "kernelspec": {
      "name": "python3",
      "display_name": "Python 3"
    },
    "language_info": {
      "name": "python"
    }
  },
  "cells": [
    {
      "cell_type": "code",
      "execution_count": null,
      "metadata": {
        "id": "yECqxHgrGdTz"
      },
      "outputs": [],
      "source": [
        "import pandas as pd\n",
        "import numpy as np\n",
        "from faker import Faker\n",
        "from random import randint\n",
        "from datetime import timedelta\n",
        "import datetime"
      ]
    },
    {
      "cell_type": "code",
      "source": [
        "id = [i for i in range(1, 101)]"
      ],
      "metadata": {
        "id": "2QS4H9amU0uj"
      },
      "execution_count": null,
      "outputs": []
    },
    {
      "cell_type": "code",
      "source": [
        "fake = Faker(locale=\"ru_RU\")\n",
        "\n",
        "address = [\n",
        "    fake.address() for _ in range(1, 101)\n",
        "]"
      ],
      "metadata": {
        "id": "jfq-stKIU9FK"
      },
      "execution_count": null,
      "outputs": []
    },
    {
      "cell_type": "code",
      "source": [
        "check = {\n",
        "    address[i]: address.count(address[i]) for i in range(len(address))\n",
        "}\n",
        "\n",
        "for k, v in check.items():\n",
        "  if v > 1:\n",
        "    print(k)"
      ],
      "metadata": {
        "id": "GPx0qgjOXW5D"
      },
      "execution_count": null,
      "outputs": []
    },
    {
      "cell_type": "code",
      "source": [
        "number_phone = [\n",
        "    fake.phone_number() for _ in range(1, 101)\n",
        "]"
      ],
      "metadata": {
        "id": "52I85u2OXwo-"
      },
      "execution_count": null,
      "outputs": []
    },
    {
      "cell_type": "code",
      "source": [
        "time_start = [\n",
        "    fake.date_between(start_date='-3y', end_date='now') for _ in range(1, 101)\n",
        "]"
      ],
      "metadata": {
        "id": "ALMw2by1YiVZ"
      },
      "execution_count": null,
      "outputs": []
    },
    {
      "cell_type": "code",
      "source": [
        "time_end = [\n",
        "    time_start[i] + timedelta(randint(1, 10)) for i in range(len(time_start))\n",
        "]\n"
      ],
      "metadata": {
        "id": "rbxVkHI8eU3y"
      },
      "execution_count": null,
      "outputs": []
    },
    {
      "cell_type": "code",
      "source": [
        "len(id)"
      ],
      "metadata": {
        "colab": {
          "base_uri": "https://localhost:8080/"
        },
        "id": "6Dch60KyizxR",
        "outputId": "dc3c088d-490b-4ed3-ef6c-2f1cf83da3f2"
      },
      "execution_count": null,
      "outputs": [
        {
          "output_type": "execute_result",
          "data": {
            "text/plain": [
              "100"
            ]
          },
          "metadata": {},
          "execution_count": 169
        }
      ]
    },
    {
      "cell_type": "code",
      "source": [
        "days = timedelta(randint(1, 10))\n",
        "day = fake.date_between(start_date='-3y', end_date='now')\n",
        "print(day)\n",
        "print(day + days)"
      ],
      "metadata": {
        "colab": {
          "base_uri": "https://localhost:8080/"
        },
        "id": "Hba23naeYmev",
        "outputId": "101a22b3-9559-47b0-e574-525dff55f386"
      },
      "execution_count": null,
      "outputs": [
        {
          "output_type": "stream",
          "name": "stdout",
          "text": [
            "2022-12-06\n",
            "2022-12-11\n"
          ]
        }
      ]
    },
    {
      "cell_type": "code",
      "source": [
        "pickup_point = pd.DataFrame(\n",
        "    {\n",
        "        'id': id,\n",
        "        'address': address,\n",
        "        'number_phone': number_phone,\n",
        "        'time_start': list(map(str, time_start)),\n",
        "        'time_end': list(map(str, time_end))\n",
        "    },\n",
        "    index = [i for i in range(1, 101)]\n",
        ")"
      ],
      "metadata": {
        "id": "OuaIZpGqc1Ia"
      },
      "execution_count": null,
      "outputs": []
    },
    {
      "cell_type": "code",
      "source": [
        "pickup_point"
      ],
      "metadata": {
        "colab": {
          "base_uri": "https://localhost:8080/",
          "height": 641
        },
        "id": "AUnQZnBgia2Z",
        "outputId": "d9a84909-c552-4161-9fb5-9b431d680640"
      },
      "execution_count": null,
      "outputs": [
        {
          "output_type": "execute_result",
          "data": {
            "text/plain": [
              "      id                                            address  \\\n",
              "1      1          п. Улан-Удэ, бул. Клубный, д. 4/4, 041656   \n",
              "2      2  д. Орел, алл. Зои Космодемьянской, д. 13 к. 8,...   \n",
              "3      3     д. Лянтор, алл. Широкая, д. 2/9 к. 6/3, 810335   \n",
              "4      4       ст. Назрань, наб. Каштановая, д. 564, 410092   \n",
              "5      5    д. Губаха, ш. Рязанское, д. 82 стр. 579, 513322   \n",
              "..   ...                                                ...   \n",
              "96    96  клх Кондопога, ул. Республиканская, д. 48 к. 9...   \n",
              "97    97     г. Ханты-Мансийск, бул. Глинки, д. 954, 052135   \n",
              "98    98      д. Клин, алл. Крупской, д. 210 стр. 8, 675502   \n",
              "99    99      д. Невьянск, пр. Володарского, д. 376, 773599   \n",
              "100  100    ст. Урус-Мартан, алл. Родниковая, д. 86, 499107   \n",
              "\n",
              "           number_phone  time_start    time_end  \n",
              "1       +7 020 723 6203  2020-11-14  2020-11-16  \n",
              "2    +7 (803) 128-03-68  2022-02-08  2022-02-17  \n",
              "3     8 (907) 864-07-27  2020-03-14  2020-03-21  \n",
              "4     +7 (137) 056-1626  2021-06-29  2021-07-07  \n",
              "5           88642684816  2021-08-24  2021-08-30  \n",
              "..                  ...         ...         ...  \n",
              "96          87391880900  2022-05-25  2022-05-31  \n",
              "97      8 967 305 06 93  2020-02-08  2020-02-16  \n",
              "98    8 (919) 149-62-43  2021-08-28  2021-08-29  \n",
              "99      +7 268 350 2676  2021-04-17  2021-04-21  \n",
              "100    +7 640 432 69 25  2022-06-08  2022-06-17  \n",
              "\n",
              "[100 rows x 5 columns]"
            ],
            "text/html": [
              "\n",
              "  <div id=\"df-5880df09-5ed1-4ec7-8e49-9df06847270b\">\n",
              "    <div class=\"colab-df-container\">\n",
              "      <div>\n",
              "<style scoped>\n",
              "    .dataframe tbody tr th:only-of-type {\n",
              "        vertical-align: middle;\n",
              "    }\n",
              "\n",
              "    .dataframe tbody tr th {\n",
              "        vertical-align: top;\n",
              "    }\n",
              "\n",
              "    .dataframe thead th {\n",
              "        text-align: right;\n",
              "    }\n",
              "</style>\n",
              "<table border=\"1\" class=\"dataframe\">\n",
              "  <thead>\n",
              "    <tr style=\"text-align: right;\">\n",
              "      <th></th>\n",
              "      <th>id</th>\n",
              "      <th>address</th>\n",
              "      <th>number_phone</th>\n",
              "      <th>time_start</th>\n",
              "      <th>time_end</th>\n",
              "    </tr>\n",
              "  </thead>\n",
              "  <tbody>\n",
              "    <tr>\n",
              "      <th>1</th>\n",
              "      <td>1</td>\n",
              "      <td>п. Улан-Удэ, бул. Клубный, д. 4/4, 041656</td>\n",
              "      <td>+7 020 723 6203</td>\n",
              "      <td>2020-11-14</td>\n",
              "      <td>2020-11-16</td>\n",
              "    </tr>\n",
              "    <tr>\n",
              "      <th>2</th>\n",
              "      <td>2</td>\n",
              "      <td>д. Орел, алл. Зои Космодемьянской, д. 13 к. 8,...</td>\n",
              "      <td>+7 (803) 128-03-68</td>\n",
              "      <td>2022-02-08</td>\n",
              "      <td>2022-02-17</td>\n",
              "    </tr>\n",
              "    <tr>\n",
              "      <th>3</th>\n",
              "      <td>3</td>\n",
              "      <td>д. Лянтор, алл. Широкая, д. 2/9 к. 6/3, 810335</td>\n",
              "      <td>8 (907) 864-07-27</td>\n",
              "      <td>2020-03-14</td>\n",
              "      <td>2020-03-21</td>\n",
              "    </tr>\n",
              "    <tr>\n",
              "      <th>4</th>\n",
              "      <td>4</td>\n",
              "      <td>ст. Назрань, наб. Каштановая, д. 564, 410092</td>\n",
              "      <td>+7 (137) 056-1626</td>\n",
              "      <td>2021-06-29</td>\n",
              "      <td>2021-07-07</td>\n",
              "    </tr>\n",
              "    <tr>\n",
              "      <th>5</th>\n",
              "      <td>5</td>\n",
              "      <td>д. Губаха, ш. Рязанское, д. 82 стр. 579, 513322</td>\n",
              "      <td>88642684816</td>\n",
              "      <td>2021-08-24</td>\n",
              "      <td>2021-08-30</td>\n",
              "    </tr>\n",
              "    <tr>\n",
              "      <th>...</th>\n",
              "      <td>...</td>\n",
              "      <td>...</td>\n",
              "      <td>...</td>\n",
              "      <td>...</td>\n",
              "      <td>...</td>\n",
              "    </tr>\n",
              "    <tr>\n",
              "      <th>96</th>\n",
              "      <td>96</td>\n",
              "      <td>клх Кондопога, ул. Республиканская, д. 48 к. 9...</td>\n",
              "      <td>87391880900</td>\n",
              "      <td>2022-05-25</td>\n",
              "      <td>2022-05-31</td>\n",
              "    </tr>\n",
              "    <tr>\n",
              "      <th>97</th>\n",
              "      <td>97</td>\n",
              "      <td>г. Ханты-Мансийск, бул. Глинки, д. 954, 052135</td>\n",
              "      <td>8 967 305 06 93</td>\n",
              "      <td>2020-02-08</td>\n",
              "      <td>2020-02-16</td>\n",
              "    </tr>\n",
              "    <tr>\n",
              "      <th>98</th>\n",
              "      <td>98</td>\n",
              "      <td>д. Клин, алл. Крупской, д. 210 стр. 8, 675502</td>\n",
              "      <td>8 (919) 149-62-43</td>\n",
              "      <td>2021-08-28</td>\n",
              "      <td>2021-08-29</td>\n",
              "    </tr>\n",
              "    <tr>\n",
              "      <th>99</th>\n",
              "      <td>99</td>\n",
              "      <td>д. Невьянск, пр. Володарского, д. 376, 773599</td>\n",
              "      <td>+7 268 350 2676</td>\n",
              "      <td>2021-04-17</td>\n",
              "      <td>2021-04-21</td>\n",
              "    </tr>\n",
              "    <tr>\n",
              "      <th>100</th>\n",
              "      <td>100</td>\n",
              "      <td>ст. Урус-Мартан, алл. Родниковая, д. 86, 499107</td>\n",
              "      <td>+7 640 432 69 25</td>\n",
              "      <td>2022-06-08</td>\n",
              "      <td>2022-06-17</td>\n",
              "    </tr>\n",
              "  </tbody>\n",
              "</table>\n",
              "<p>100 rows × 5 columns</p>\n",
              "</div>\n",
              "      <button class=\"colab-df-convert\" onclick=\"convertToInteractive('df-5880df09-5ed1-4ec7-8e49-9df06847270b')\"\n",
              "              title=\"Convert this dataframe to an interactive table.\"\n",
              "              style=\"display:none;\">\n",
              "        \n",
              "  <svg xmlns=\"http://www.w3.org/2000/svg\" height=\"24px\"viewBox=\"0 0 24 24\"\n",
              "       width=\"24px\">\n",
              "    <path d=\"M0 0h24v24H0V0z\" fill=\"none\"/>\n",
              "    <path d=\"M18.56 5.44l.94 2.06.94-2.06 2.06-.94-2.06-.94-.94-2.06-.94 2.06-2.06.94zm-11 1L8.5 8.5l.94-2.06 2.06-.94-2.06-.94L8.5 2.5l-.94 2.06-2.06.94zm10 10l.94 2.06.94-2.06 2.06-.94-2.06-.94-.94-2.06-.94 2.06-2.06.94z\"/><path d=\"M17.41 7.96l-1.37-1.37c-.4-.4-.92-.59-1.43-.59-.52 0-1.04.2-1.43.59L10.3 9.45l-7.72 7.72c-.78.78-.78 2.05 0 2.83L4 21.41c.39.39.9.59 1.41.59.51 0 1.02-.2 1.41-.59l7.78-7.78 2.81-2.81c.8-.78.8-2.07 0-2.86zM5.41 20L4 18.59l7.72-7.72 1.47 1.35L5.41 20z\"/>\n",
              "  </svg>\n",
              "      </button>\n",
              "      \n",
              "  <style>\n",
              "    .colab-df-container {\n",
              "      display:flex;\n",
              "      flex-wrap:wrap;\n",
              "      gap: 12px;\n",
              "    }\n",
              "\n",
              "    .colab-df-convert {\n",
              "      background-color: #E8F0FE;\n",
              "      border: none;\n",
              "      border-radius: 50%;\n",
              "      cursor: pointer;\n",
              "      display: none;\n",
              "      fill: #1967D2;\n",
              "      height: 32px;\n",
              "      padding: 0 0 0 0;\n",
              "      width: 32px;\n",
              "    }\n",
              "\n",
              "    .colab-df-convert:hover {\n",
              "      background-color: #E2EBFA;\n",
              "      box-shadow: 0px 1px 2px rgba(60, 64, 67, 0.3), 0px 1px 3px 1px rgba(60, 64, 67, 0.15);\n",
              "      fill: #174EA6;\n",
              "    }\n",
              "\n",
              "    [theme=dark] .colab-df-convert {\n",
              "      background-color: #3B4455;\n",
              "      fill: #D2E3FC;\n",
              "    }\n",
              "\n",
              "    [theme=dark] .colab-df-convert:hover {\n",
              "      background-color: #434B5C;\n",
              "      box-shadow: 0px 1px 3px 1px rgba(0, 0, 0, 0.15);\n",
              "      filter: drop-shadow(0px 1px 2px rgba(0, 0, 0, 0.3));\n",
              "      fill: #FFFFFF;\n",
              "    }\n",
              "  </style>\n",
              "\n",
              "      <script>\n",
              "        const buttonEl =\n",
              "          document.querySelector('#df-5880df09-5ed1-4ec7-8e49-9df06847270b button.colab-df-convert');\n",
              "        buttonEl.style.display =\n",
              "          google.colab.kernel.accessAllowed ? 'block' : 'none';\n",
              "\n",
              "        async function convertToInteractive(key) {\n",
              "          const element = document.querySelector('#df-5880df09-5ed1-4ec7-8e49-9df06847270b');\n",
              "          const dataTable =\n",
              "            await google.colab.kernel.invokeFunction('convertToInteractive',\n",
              "                                                     [key], {});\n",
              "          if (!dataTable) return;\n",
              "\n",
              "          const docLinkHtml = 'Like what you see? Visit the ' +\n",
              "            '<a target=\"_blank\" href=https://colab.research.google.com/notebooks/data_table.ipynb>data table notebook</a>'\n",
              "            + ' to learn more about interactive tables.';\n",
              "          element.innerHTML = '';\n",
              "          dataTable['output_type'] = 'display_data';\n",
              "          await google.colab.output.renderOutput(dataTable, element);\n",
              "          const docLink = document.createElement('div');\n",
              "          docLink.innerHTML = docLinkHtml;\n",
              "          element.appendChild(docLink);\n",
              "        }\n",
              "      </script>\n",
              "    </div>\n",
              "  </div>\n",
              "  "
            ]
          },
          "metadata": {},
          "execution_count": 172
        }
      ]
    },
    {
      "cell_type": "code",
      "source": [
        "pickup_point.to_csv('pickup_point.csv')"
      ],
      "metadata": {
        "id": "YlP-Qs3Ni5Be"
      },
      "execution_count": null,
      "outputs": []
    },
    {
      "cell_type": "code",
      "source": [],
      "metadata": {
        "id": "bbL8VC-rjNJX"
      },
      "execution_count": null,
      "outputs": []
    }
  ]
}
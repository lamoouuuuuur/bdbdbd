{
  "nbformat": 4,
  "nbformat_minor": 0,
  "metadata": {
    "colab": {
      "provenance": []
    },
    "kernelspec": {
      "name": "python3",
      "display_name": "Python 3"
    },
    "language_info": {
      "name": "python"
    }
  },
  "cells": [
    {
      "cell_type": "code",
      "execution_count": null,
      "metadata": {
        "id": "kQwSmqzWqWh7"
      },
      "outputs": [],
      "source": [
        "from faker import Faker\n",
        "from russian_names import RussianNames\n",
        "import pandas as pd"
      ]
    },
    {
      "cell_type": "code",
      "source": [
        "fake = Faker('ru_RU')\n",
        "\n",
        "id = [i for i in range(1, 151)]\n",
        "name = [RussianNames().get_person().split(' ')[0] for _ in range(1, 151)]\n",
        "patronymic = [RussianNames().get_person().split(' ')[1] for _ in range(1, 151)]\n",
        "surname = [RussianNames().get_person().split(' ')[2] for _ in range(1, 151)]\n",
        "phone_number = [fake.phone_number().replace(' ', '-') for _ in range(1, 151)]"
      ],
      "metadata": {
        "id": "ohE5bdtVqdL_"
      },
      "execution_count": null,
      "outputs": []
    },
    {
      "cell_type": "code",
      "source": [
        "client = pd.DataFrame(\n",
        "    {\n",
        "        'id': id,\n",
        "        'surname': surname,\n",
        "        'name': name,\n",
        "        'patronymic': patronymic,\n",
        "        'number_phone': phone_number\n",
        "    },\n",
        "    index=[i for i in range(1, 151)],\n",
        ")"
      ],
      "metadata": {
        "id": "bS_uT59Qqqxt"
      },
      "execution_count": null,
      "outputs": []
    },
    {
      "cell_type": "code",
      "source": [
        "client"
      ],
      "metadata": {
        "colab": {
          "base_uri": "https://localhost:8080/",
          "height": 424
        },
        "id": "wyK_KtEBqz_v",
        "outputId": "751c36ce-8617-4489-85cb-7816e6deabc2"
      },
      "execution_count": null,
      "outputs": [
        {
          "output_type": "execute_result",
          "data": {
            "text/plain": [
              "      id     surname       name  patronymic       number_phone\n",
              "1      1    Оглоухов       Олег    Игоревич       +74007390262\n",
              "2      2  Прасовский      Клара   Романович   8-(571)-454-1965\n",
              "3      3     Потемин  Валентина  Богдановна    +7-264-176-4787\n",
              "4      4     Петешев      Федор  Евгеньевна       +74657398705\n",
              "5      5       Махов     Ксения    Егоровна   +7-045-399-75-42\n",
              "..   ...         ...        ...         ...                ...\n",
              "146  146     Горышев     Любовь  Викторович   +7-874-208-54-10\n",
              "147  147      Окаева      Алиса  Василиевич  +7-(619)-894-8092\n",
              "148  148  Голотынина       Илья   Романовна       +73820834746\n",
              "149  149   Евграфьев    Герасим  Георгиевич     8-869-968-9456\n",
              "150  150   Теравская      Елена   Вадимович        80842866062\n",
              "\n",
              "[150 rows x 5 columns]"
            ],
            "text/html": [
              "\n",
              "  <div id=\"df-0a8535ee-8948-459c-9677-c6d7c8d3e7e8\">\n",
              "    <div class=\"colab-df-container\">\n",
              "      <div>\n",
              "<style scoped>\n",
              "    .dataframe tbody tr th:only-of-type {\n",
              "        vertical-align: middle;\n",
              "    }\n",
              "\n",
              "    .dataframe tbody tr th {\n",
              "        vertical-align: top;\n",
              "    }\n",
              "\n",
              "    .dataframe thead th {\n",
              "        text-align: right;\n",
              "    }\n",
              "</style>\n",
              "<table border=\"1\" class=\"dataframe\">\n",
              "  <thead>\n",
              "    <tr style=\"text-align: right;\">\n",
              "      <th></th>\n",
              "      <th>id</th>\n",
              "      <th>surname</th>\n",
              "      <th>name</th>\n",
              "      <th>patronymic</th>\n",
              "      <th>number_phone</th>\n",
              "    </tr>\n",
              "  </thead>\n",
              "  <tbody>\n",
              "    <tr>\n",
              "      <th>1</th>\n",
              "      <td>1</td>\n",
              "      <td>Оглоухов</td>\n",
              "      <td>Олег</td>\n",
              "      <td>Игоревич</td>\n",
              "      <td>+74007390262</td>\n",
              "    </tr>\n",
              "    <tr>\n",
              "      <th>2</th>\n",
              "      <td>2</td>\n",
              "      <td>Прасовский</td>\n",
              "      <td>Клара</td>\n",
              "      <td>Романович</td>\n",
              "      <td>8-(571)-454-1965</td>\n",
              "    </tr>\n",
              "    <tr>\n",
              "      <th>3</th>\n",
              "      <td>3</td>\n",
              "      <td>Потемин</td>\n",
              "      <td>Валентина</td>\n",
              "      <td>Богдановна</td>\n",
              "      <td>+7-264-176-4787</td>\n",
              "    </tr>\n",
              "    <tr>\n",
              "      <th>4</th>\n",
              "      <td>4</td>\n",
              "      <td>Петешев</td>\n",
              "      <td>Федор</td>\n",
              "      <td>Евгеньевна</td>\n",
              "      <td>+74657398705</td>\n",
              "    </tr>\n",
              "    <tr>\n",
              "      <th>5</th>\n",
              "      <td>5</td>\n",
              "      <td>Махов</td>\n",
              "      <td>Ксения</td>\n",
              "      <td>Егоровна</td>\n",
              "      <td>+7-045-399-75-42</td>\n",
              "    </tr>\n",
              "    <tr>\n",
              "      <th>...</th>\n",
              "      <td>...</td>\n",
              "      <td>...</td>\n",
              "      <td>...</td>\n",
              "      <td>...</td>\n",
              "      <td>...</td>\n",
              "    </tr>\n",
              "    <tr>\n",
              "      <th>146</th>\n",
              "      <td>146</td>\n",
              "      <td>Горышев</td>\n",
              "      <td>Любовь</td>\n",
              "      <td>Викторович</td>\n",
              "      <td>+7-874-208-54-10</td>\n",
              "    </tr>\n",
              "    <tr>\n",
              "      <th>147</th>\n",
              "      <td>147</td>\n",
              "      <td>Окаева</td>\n",
              "      <td>Алиса</td>\n",
              "      <td>Василиевич</td>\n",
              "      <td>+7-(619)-894-8092</td>\n",
              "    </tr>\n",
              "    <tr>\n",
              "      <th>148</th>\n",
              "      <td>148</td>\n",
              "      <td>Голотынина</td>\n",
              "      <td>Илья</td>\n",
              "      <td>Романовна</td>\n",
              "      <td>+73820834746</td>\n",
              "    </tr>\n",
              "    <tr>\n",
              "      <th>149</th>\n",
              "      <td>149</td>\n",
              "      <td>Евграфьев</td>\n",
              "      <td>Герасим</td>\n",
              "      <td>Георгиевич</td>\n",
              "      <td>8-869-968-9456</td>\n",
              "    </tr>\n",
              "    <tr>\n",
              "      <th>150</th>\n",
              "      <td>150</td>\n",
              "      <td>Теравская</td>\n",
              "      <td>Елена</td>\n",
              "      <td>Вадимович</td>\n",
              "      <td>80842866062</td>\n",
              "    </tr>\n",
              "  </tbody>\n",
              "</table>\n",
              "<p>150 rows × 5 columns</p>\n",
              "</div>\n",
              "      <button class=\"colab-df-convert\" onclick=\"convertToInteractive('df-0a8535ee-8948-459c-9677-c6d7c8d3e7e8')\"\n",
              "              title=\"Convert this dataframe to an interactive table.\"\n",
              "              style=\"display:none;\">\n",
              "        \n",
              "  <svg xmlns=\"http://www.w3.org/2000/svg\" height=\"24px\"viewBox=\"0 0 24 24\"\n",
              "       width=\"24px\">\n",
              "    <path d=\"M0 0h24v24H0V0z\" fill=\"none\"/>\n",
              "    <path d=\"M18.56 5.44l.94 2.06.94-2.06 2.06-.94-2.06-.94-.94-2.06-.94 2.06-2.06.94zm-11 1L8.5 8.5l.94-2.06 2.06-.94-2.06-.94L8.5 2.5l-.94 2.06-2.06.94zm10 10l.94 2.06.94-2.06 2.06-.94-2.06-.94-.94-2.06-.94 2.06-2.06.94z\"/><path d=\"M17.41 7.96l-1.37-1.37c-.4-.4-.92-.59-1.43-.59-.52 0-1.04.2-1.43.59L10.3 9.45l-7.72 7.72c-.78.78-.78 2.05 0 2.83L4 21.41c.39.39.9.59 1.41.59.51 0 1.02-.2 1.41-.59l7.78-7.78 2.81-2.81c.8-.78.8-2.07 0-2.86zM5.41 20L4 18.59l7.72-7.72 1.47 1.35L5.41 20z\"/>\n",
              "  </svg>\n",
              "      </button>\n",
              "      \n",
              "  <style>\n",
              "    .colab-df-container {\n",
              "      display:flex;\n",
              "      flex-wrap:wrap;\n",
              "      gap: 12px;\n",
              "    }\n",
              "\n",
              "    .colab-df-convert {\n",
              "      background-color: #E8F0FE;\n",
              "      border: none;\n",
              "      border-radius: 50%;\n",
              "      cursor: pointer;\n",
              "      display: none;\n",
              "      fill: #1967D2;\n",
              "      height: 32px;\n",
              "      padding: 0 0 0 0;\n",
              "      width: 32px;\n",
              "    }\n",
              "\n",
              "    .colab-df-convert:hover {\n",
              "      background-color: #E2EBFA;\n",
              "      box-shadow: 0px 1px 2px rgba(60, 64, 67, 0.3), 0px 1px 3px 1px rgba(60, 64, 67, 0.15);\n",
              "      fill: #174EA6;\n",
              "    }\n",
              "\n",
              "    [theme=dark] .colab-df-convert {\n",
              "      background-color: #3B4455;\n",
              "      fill: #D2E3FC;\n",
              "    }\n",
              "\n",
              "    [theme=dark] .colab-df-convert:hover {\n",
              "      background-color: #434B5C;\n",
              "      box-shadow: 0px 1px 3px 1px rgba(0, 0, 0, 0.15);\n",
              "      filter: drop-shadow(0px 1px 2px rgba(0, 0, 0, 0.3));\n",
              "      fill: #FFFFFF;\n",
              "    }\n",
              "  </style>\n",
              "\n",
              "      <script>\n",
              "        const buttonEl =\n",
              "          document.querySelector('#df-0a8535ee-8948-459c-9677-c6d7c8d3e7e8 button.colab-df-convert');\n",
              "        buttonEl.style.display =\n",
              "          google.colab.kernel.accessAllowed ? 'block' : 'none';\n",
              "\n",
              "        async function convertToInteractive(key) {\n",
              "          const element = document.querySelector('#df-0a8535ee-8948-459c-9677-c6d7c8d3e7e8');\n",
              "          const dataTable =\n",
              "            await google.colab.kernel.invokeFunction('convertToInteractive',\n",
              "                                                     [key], {});\n",
              "          if (!dataTable) return;\n",
              "\n",
              "          const docLinkHtml = 'Like what you see? Visit the ' +\n",
              "            '<a target=\"_blank\" href=https://colab.research.google.com/notebooks/data_table.ipynb>data table notebook</a>'\n",
              "            + ' to learn more about interactive tables.';\n",
              "          element.innerHTML = '';\n",
              "          dataTable['output_type'] = 'display_data';\n",
              "          await google.colab.output.renderOutput(dataTable, element);\n",
              "          const docLink = document.createElement('div');\n",
              "          docLink.innerHTML = docLinkHtml;\n",
              "          element.appendChild(docLink);\n",
              "        }\n",
              "      </script>\n",
              "    </div>\n",
              "  </div>\n",
              "  "
            ]
          },
          "metadata": {},
          "execution_count": 20
        }
      ]
    },
    {
      "cell_type": "code",
      "source": [
        "client.to_csv('client.csv')"
      ],
      "metadata": {
        "id": "-wTQzQ1trIC1"
      },
      "execution_count": null,
      "outputs": []
    },
    {
      "cell_type": "code",
      "source": [
        "fake.color_name()"
      ],
      "metadata": {
        "colab": {
          "base_uri": "https://localhost:8080/",
          "height": 36
        },
        "id": "0Mm6D4lFQ5U_",
        "outputId": "805dd316-dd18-42e8-dc13-de7cfe33e26b"
      },
      "execution_count": null,
      "outputs": [
        {
          "output_type": "execute_result",
          "data": {
            "text/plain": [
              "'Темно-голубой'"
            ],
            "application/vnd.google.colaboratory.intrinsic+json": {
              "type": "string"
            }
          },
          "metadata": {},
          "execution_count": 31
        }
      ]
    },
    {
      "cell_type": "code",
      "source": [],
      "metadata": {
        "id": "FOb-R5KPRgeU"
      },
      "execution_count": null,
      "outputs": []
    }
  ]
}
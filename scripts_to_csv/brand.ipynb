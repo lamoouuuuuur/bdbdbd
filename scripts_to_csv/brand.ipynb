{
  "nbformat": 4,
  "nbformat_minor": 0,
  "metadata": {
    "colab": {
      "provenance": []
    },
    "kernelspec": {
      "name": "python3",
      "display_name": "Python 3"
    },
    "language_info": {
      "name": "python"
    }
  },
  "cells": [
    {
      "cell_type": "code",
      "execution_count": null,
      "metadata": {
        "id": "yAFu9FjZlmZW"
      },
      "outputs": [],
      "source": [
        "import requests\n",
        "from bs4 import BeautifulSoup\n",
        "import pandas as pd"
      ]
    },
    {
      "cell_type": "code",
      "source": [
        "url = 'https://www.lamoda.ru/c/477/clothes-muzhskaya-odezhda/?sitelink=topmenuM&l=3&page=' + str(2)\n",
        "url"
      ],
      "metadata": {
        "colab": {
          "base_uri": "https://localhost:8080/",
          "height": 35
        },
        "id": "WyqdjDIAyt0y",
        "outputId": "bce6f316-7f7b-4719-b135-d14b7c62a3f9"
      },
      "execution_count": null,
      "outputs": [
        {
          "output_type": "execute_result",
          "data": {
            "text/plain": [
              "'https://www.lamoda.ru/c/477/clothes-muzhskaya-odezhda/?sitelink=topmenuM&l=3&page=2'"
            ],
            "application/vnd.google.colaboratory.intrinsic+json": {
              "type": "string"
            }
          },
          "metadata": {},
          "execution_count": 86
        }
      ]
    },
    {
      "cell_type": "code",
      "source": [],
      "metadata": {
        "id": "yo8veTRoB2Sx"
      },
      "execution_count": null,
      "outputs": []
    },
    {
      "cell_type": "code",
      "source": [
        "brands = []\n",
        "for i in range(1, 50):\n",
        "  url = 'https://www.lamoda.ru/c/477/clothes-muzhskaya-odezhda/?sitelink=topmenuM&l=3&brands=1061,25595,3693,30007,25579,4573,4035,24484,22318,3761,21410,19622,22350,1733,4869,28208,20395,31528,5809,5413,2037,1169,2691,25125,30542,2003,5178,30391,30372,32286,5584,4189,32063,27481,6642,843,25138,1841,4259,22293,30180,33334,5181,29607,29193,4301,26454,24417,471,4351,3713,4361,28349,18717,6364,6253,570,24966,26151,32138,5112,29870,31790,28848,24899,32752,893,31905,5816,6085,2047,29878,28318,27590,6410,31707,29922,32216,26905,26029,3801,32943,6180,27893,1107,1543,463,24797,31425,32907,3701,4860,32255,32488,29615,25733,30111,29969,22705,31526,18555,24713,28757,25889,31410,5815,891,573,26934,23837,31765,23783,4607,25571,33366,24798,4978,5119,29528,24207,27553,30356,26494,6183,6564,1787,31272,25442,26914,30726&page=' + str(i)\n",
        "  page = requests.get(url)\n",
        "  soup = BeautifulSoup(page.content, \"html.parser\")\n",
        "  items = soup.find_all('div', class_='x-product-card__card')\n",
        "  for item in items:\n",
        "    brand = item.find('div', class_='x-product-card-description__brand-name').text\n",
        "    if brand not in brands:\n",
        "      brands.append(brand)\n",
        "    else:\n",
        "      continue"
      ],
      "metadata": {
        "id": "YA4uV3EIlqZv"
      },
      "execution_count": null,
      "outputs": []
    },
    {
      "cell_type": "code",
      "source": [
        "len(brands)"
      ],
      "metadata": {
        "colab": {
          "base_uri": "https://localhost:8080/"
        },
        "id": "GZb3NW7WsE5o",
        "outputId": "ceea582c-9d31-44c9-af34-91553f187e31"
      },
      "execution_count": null,
      "outputs": [
        {
          "output_type": "execute_result",
          "data": {
            "text/plain": [
              "85"
            ]
          },
          "metadata": {},
          "execution_count": 102
        }
      ]
    },
    {
      "cell_type": "code",
      "source": [
        "id = [i for i in range(1, 86)]"
      ],
      "metadata": {
        "id": "_jgPM3P0BpiA"
      },
      "execution_count": null,
      "outputs": []
    },
    {
      "cell_type": "code",
      "source": [
        "brand = pd.DataFrame(\n",
        "    {\n",
        "        'id': id, \n",
        "        'name': brands\n",
        "    },\n",
        "    index = [i for i in range(1, 86)]\n",
        ")"
      ],
      "metadata": {
        "id": "mtmoTdl3E3nd"
      },
      "execution_count": null,
      "outputs": []
    },
    {
      "cell_type": "code",
      "source": [
        "brand.to_csv('brand.csv')"
      ],
      "metadata": {
        "id": "tgYkUHvoFBs8"
      },
      "execution_count": null,
      "outputs": []
    },
    {
      "cell_type": "code",
      "source": [],
      "metadata": {
        "id": "PpIzooW7FCTG"
      },
      "execution_count": null,
      "outputs": []
    }
  ]
}